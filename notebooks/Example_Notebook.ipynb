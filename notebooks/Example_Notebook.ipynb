{
 "cells": [
  {
   "cell_type": "markdown",
   "metadata": {},
   "source": [
    "## Example Notebook"
   ]
  },
  {
   "cell_type": "markdown",
   "metadata": {},
   "source": [
    "#### Notebook Setup"
   ]
  },
  {
   "cell_type": "code",
   "execution_count": 2,
   "metadata": {},
   "outputs": [
    {
     "name": "stdout",
     "output_type": "stream",
     "text": [
      "The nb_black extension is already loaded. To reload it, use:\n",
      "  %reload_ext nb_black\n"
     ]
    },
    {
     "data": {
      "text/html": [
       "<style>.container { width:80% !important; }</style>"
      ],
      "text/plain": [
       "<IPython.core.display.HTML object>"
      ]
     },
     "metadata": {},
     "output_type": "display_data"
    },
    {
     "data": {
      "application/javascript": [
       "\n",
       "            setTimeout(function() {\n",
       "                var nbb_cell_id = 2;\n",
       "                var nbb_unformatted_code = \"%load_ext nb_black\\n\\n%reload_ext autoreload\\n%autoreload 2\\nimport os\\nimport sys\\nimport glob\\n\\n\\ndef set_paths() -> None:\\n    \\\"\\\"\\\"\\n    set correct working directory\\n    \\\"\\\"\\\"\\n    # only change the directory if we have not yet done so\\n    if \\\"cwd\\\" not in globals():\\n        global cwd\\n        cwd = os.path.join(os.getcwd(), os.pardir)\\n        os.chdir(cwd)\\n\\n\\n# we are setting the path to the root directory of the project\\n# allowing us to load the packages\\nset_paths()\\n\\n# Increases the width of the notebookk\\nfrom IPython.core.display import display, HTML\\n\\ndisplay(HTML(\\\"<style>.container { width:80% !important; }</style>\\\"))\";\n",
       "                var nbb_formatted_code = \"%load_ext nb_black\\n\\n%reload_ext autoreload\\n%autoreload 2\\nimport os\\nimport sys\\nimport glob\\n\\n\\ndef set_paths() -> None:\\n    \\\"\\\"\\\"\\n    set correct working directory\\n    \\\"\\\"\\\"\\n    # only change the directory if we have not yet done so\\n    if \\\"cwd\\\" not in globals():\\n        global cwd\\n        cwd = os.path.join(os.getcwd(), os.pardir)\\n        os.chdir(cwd)\\n\\n\\n# we are setting the path to the root directory of the project\\n# allowing us to load the packages\\nset_paths()\\n\\n# Increases the width of the notebookk\\nfrom IPython.core.display import display, HTML\\n\\ndisplay(HTML(\\\"<style>.container { width:80% !important; }</style>\\\"))\";\n",
       "                var nbb_cells = Jupyter.notebook.get_cells();\n",
       "                for (var i = 0; i < nbb_cells.length; ++i) {\n",
       "                    if (nbb_cells[i].input_prompt_number == nbb_cell_id) {\n",
       "                        if (nbb_cells[i].get_text() == nbb_unformatted_code) {\n",
       "                             nbb_cells[i].set_text(nbb_formatted_code);\n",
       "                        }\n",
       "                        break;\n",
       "                    }\n",
       "                }\n",
       "            }, 500);\n",
       "            "
      ],
      "text/plain": [
       "<IPython.core.display.Javascript object>"
      ]
     },
     "metadata": {},
     "output_type": "display_data"
    }
   ],
   "source": [
    "%load_ext nb_black\n",
    "\n",
    "%reload_ext autoreload\n",
    "%autoreload 2\n",
    "import os\n",
    "import sys\n",
    "import glob\n",
    "\n",
    "\n",
    "def set_paths() -> None:\n",
    "    \"\"\"\n",
    "    set correct working directory\n",
    "    \"\"\"\n",
    "    # only change the directory if we have not yet done so\n",
    "    if \"cwd\" not in globals():\n",
    "        global cwd\n",
    "        cwd = os.path.join(os.getcwd(), os.pardir)\n",
    "        os.chdir(cwd)\n",
    "\n",
    "\n",
    "# we are setting the path to the root directory of the project\n",
    "# allowing us to load the packages\n",
    "set_paths()\n",
    "\n",
    "# Increases the width of the notebookk\n",
    "from IPython.core.display import display, HTML\n",
    "\n",
    "display(HTML(\"<style>.container { width:80% !important; }</style>\"))"
   ]
  },
  {
   "cell_type": "code",
   "execution_count": null,
   "metadata": {},
   "outputs": [],
   "source": []
  }
 ],
 "metadata": {
  "kernelspec": {
   "display_name": "Python 3",
   "language": "python",
   "name": "python3"
  },
  "language_info": {
   "codemirror_mode": {
    "name": "ipython",
    "version": 3
   },
   "file_extension": ".py",
   "mimetype": "text/x-python",
   "name": "python",
   "nbconvert_exporter": "python",
   "pygments_lexer": "ipython3",
   "version": "3.9.0"
  }
 },
 "nbformat": 4,
 "nbformat_minor": 4
}
